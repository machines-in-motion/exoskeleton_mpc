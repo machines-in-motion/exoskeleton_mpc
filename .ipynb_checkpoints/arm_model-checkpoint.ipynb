{
 "cells": [
  {
   "cell_type": "code",
   "execution_count": 1,
   "id": "2bf22f51-633f-457e-b9d7-4d58ce8b4472",
   "metadata": {
    "scrolled": true
   },
   "outputs": [],
   "source": [
    "import numpy as np\n",
    "import collections\n",
    "from dataclasses import dataclass\n",
    "\n",
    "import pinocchio as pin\n",
    "import hppfcl as fcl\n",
    "from pinocchio.visualize import MeshcatVisualizer as Visualizer\n",
    "import time\n",
    "from matplotlib import pyplot as plt\n",
    "\n",
    "import crocoddyl\n",
    "from mim_solvers import SolverSQP\n",
    "\n",
    "from reaching_problem import solve_reaching_problem\n",
    "from arm_model import create_arm"
   ]
  },
  {
   "cell_type": "code",
   "execution_count": 8,
   "id": "88c7d9fc-0292-46ab-ad5e-412ace74ee30",
   "metadata": {},
   "outputs": [],
   "source": [
    "def solve_estimation_problem(measurements, T, rmodel, x0):\n",
    "    rdata = rmodel.createData()\n",
    "    nq = rmodel.nq; nv = rmodel.nv; nu = nq; nx = nq+nv\n",
    "\n",
    "    \n",
    "    dt = 1e-2\n",
    "    \n",
    "    # # # # # # # # # # # # # # #\n",
    "    ###  SETUP CROCODDYL OCP  ###\n",
    "    # # # # # # # # # # # # # # #\n",
    "    \n",
    "    # State and actuation model\n",
    "    state = crocoddyl.StateMultibody(rmodel)\n",
    "    actuation = crocoddyl.ActuationModelFull(state)\n",
    "    \n",
    "    # Create cost terms \n",
    "    # Control regularization cost\n",
    "    uResidual = crocoddyl.ResidualModelControlGrav(state)\n",
    "    uRegCost = crocoddyl.CostModelResidual(state, uResidual)\n",
    "    # State regularization cost\n",
    "    xResidual = crocoddyl.ResidualModelState(state, x0)\n",
    "    xRegCost = crocoddyl.CostModelResidual(state, xResidual)\n",
    "\n",
    "    runningModel = []\n",
    "    \n",
    "    for i in range(T):\n",
    "        # endeff frame orientation cost\n",
    "        endeff_frame_id = rmodel.getFrameId(\"Hand\")\n",
    "        frameOrientationResidual = crocoddyl.ResidualModelFrameRotation(state, endeff_frame_id, measurements[i].wrist_orientation)\n",
    "        frameOrientationCost = crocoddyl.CostModelResidual(state, frameOrientationResidual)\n",
    "\n",
    "        imu_arm_id = rmodel.getFrameId(\"imu_arm\")\n",
    "        imuHandOrientationResidual = crocoddyl.ResidualModelFrameRotation(state, imu_arm_id, measurements[i].arm_orientation)\n",
    "        imuHandOrientationCost = crocoddyl.CostModelResidual(state, imuHandOrientationResidual)\n",
    "        \n",
    "        # Running and terminal cost models\n",
    "        runningCostModel = crocoddyl.CostModelSum(state)\n",
    "        terminalCostModel = crocoddyl.CostModelSum(state)\n",
    "        \n",
    "        # Add costs\n",
    "        runningCostModel.addCost(\"stateReg\", xRegCost, 1e-3)\n",
    "        runningCostModel.addCost(\"ctrlRegGrav\", uRegCost, 1e-3)\n",
    "        runningCostModel.addCost(\"wristOrientation\", frameOrientationCost, 5e1)\n",
    "        runningCostModel.addCost(\"shoulderOrientation\", imuHandOrientationCost, 1e-10)\n",
    "        \n",
    "    \n",
    "        # Create Differential Action Model (DAM), i.e. continuous dynamics and cost functions\n",
    "        running_DAM = crocoddyl.DifferentialActionModelFreeFwdDynamics(state, actuation, runningCostModel)\n",
    "        runningModel.append(crocoddyl.IntegratedActionModelEuler(running_DAM, dt))\n",
    "\n",
    "    terminal_DAM = crocoddyl.DifferentialActionModelFreeFwdDynamics(state, actuation, runningCostModel)\n",
    "    \n",
    "    # Create Integrated Action Model (IAM), i.e. Euler integration of continuous dynamics and cost\n",
    "    \n",
    "    terminalModel = crocoddyl.IntegratedActionModelEuler(terminal_DAM, 0.)\n",
    "        \n",
    "    # Create the shooting problem\n",
    "    problem = crocoddyl.ShootingProblem(x0, runningModel, terminalModel)\n",
    "    \n",
    "    # Create solver + callbacks\n",
    "    ddp = SolverSQP(problem)\n",
    "    # ddp = crocoddyl.SolverFDDP(problem)\n",
    "    ddp.setCallbacks([crocoddyl.CallbackLogger()])\n",
    "    ddp.use_filter_line_search = True\n",
    "    \n",
    "    # Warm start : initial state + gravity compensation\n",
    "    xs_init = [x0 for i in range(T+1)]\n",
    "    us_init = ddp.problem.quasiStatic(xs_init[:-1])\n",
    "    \n",
    "    # Solve\n",
    "    ddp.solve(xs_init, us_init, maxiter=5)\n",
    "    \n",
    "    return ddp"
   ]
  },
  {
   "cell_type": "code",
   "execution_count": 9,
   "id": "019e2526-6e88-4f41-a9d8-f03582725a82",
   "metadata": {},
   "outputs": [],
   "source": [
    "@dataclass\n",
    "class ArmMeasurementCurrent:\n",
    "    arm_orientation : np.array\n",
    "    wrist_orientation : np.array"
   ]
  },
  {
   "cell_type": "code",
   "execution_count": 10,
   "id": "d5ad12fd-2f9d-4ee7-93dc-609996dfdc9c",
   "metadata": {},
   "outputs": [
    {
     "name": "stdout",
     "output_type": "stream",
     "text": [
      "You can open the visualizer by visiting the following URL:\n",
      "http://127.0.0.1:7002/static/\n"
     ]
    },
    {
     "data": {
      "text/html": [
       "\n",
       "            <div style=\"height: 400px; width: 100%; overflow-x: auto; overflow-y: hidden; resize: both\">\n",
       "            <iframe src=\"http://127.0.0.1:7002/static/\" style=\"width: 100%; height: 100%; border: none\"></iframe>\n",
       "            </div>\n",
       "            "
      ],
      "text/plain": [
       "<IPython.core.display.HTML object>"
      ]
     },
     "execution_count": 10,
     "metadata": {},
     "output_type": "execute_result"
    }
   ],
   "source": [
    "rmodel, rdata, gmodel, cmodel = create_arm()\n",
    "\n",
    "viz = Visualizer(rmodel, gmodel, cmodel)\n",
    "viz.initViewer(open=False)\n",
    "viz.loadViewerModel()\n",
    "viz.initializeFrames()\n",
    "viz.display_frames = True\n",
    "\n",
    "viz2 = pin.visualize.MeshcatVisualizer(rmodel, gmodel, cmodel)\n",
    "viz2.initViewer(viz.viewer)\n",
    "viz2.loadViewerModel(rootNodeName = \"pinocchio2\")\n",
    "viz2.initializeFrames()\n",
    "viz2.display_frames = True\n",
    "viz.viewer.jupyter_cell()"
   ]
  },
  {
   "cell_type": "code",
   "execution_count": 11,
   "id": "7bfe7191-86c1-4f6c-ac51-756451df6082",
   "metadata": {},
   "outputs": [],
   "source": [
    "q = np.zeros(5)\n",
    "viz.display(q)"
   ]
  },
  {
   "cell_type": "code",
   "execution_count": 13,
   "id": "4a65cbda-c439-474b-a523-e163988624d3",
   "metadata": {},
   "outputs": [],
   "source": [
    "xdes = np.array([0.2,0.2,0.0])\n",
    "q0 = np.array([0.0,0.0,0.0,0.0, 0.0])\n",
    "T = 25 # history of measurements being used\n",
    "measurement = collections.deque(maxlen=T)\n",
    "estimate_x0 = np.zeros(rmodel.nq + rmodel.nv)\n",
    "counter = 0\n",
    "\n",
    "\n",
    "for i in range(3):\n",
    "    if i == 1:\n",
    "        xdes = np.array([-0.2,0.3,0.])\n",
    "    if i == 2:\n",
    "        xdes = np.array([0.2,0.2,-0.1])\n",
    "    ddp = solve_reaching_problem(xdes, q0, rmodel)\n",
    "    for i in range(ddp.problem.T):\n",
    "        counter += 1\n",
    "        q = ddp.xs[i][0:rmodel.nq]\n",
    "        v = ddp.xs[i][rmodel.nq:]\n",
    "        viz.display(q)\n",
    "        pin.framesForwardKinematics(rmodel, rdata, q)\n",
    "        pin.updateFramePlacements(rmodel, rdata)\n",
    "        measurement.append(ArmMeasurementCurrent(rdata.oMf[rmodel.getFrameId(\"imu_arm\")].rotation,rdata.oMf[rmodel.getFrameId(\"Hand\")].rotation ))\n",
    "        if counter > T:\n",
    "            estimate = solve_estimation_problem(measurement, T, rmodel, estimate_x0)\n",
    "            viz2.display(estimate.xs[-1][:rmodel.nq])\n",
    "            estimate_x0 = estimate.xs[-1]\n",
    "        time.sleep(0.01)\n",
    "    q0 = ddp.xs[-1][0:rmodel.nq].copy()"
   ]
  },
  {
   "cell_type": "code",
   "execution_count": null,
   "id": "52bb0777-be54-42a8-af47-169bab654df5",
   "metadata": {},
   "outputs": [],
   "source": []
  }
 ],
 "metadata": {
  "kernelspec": {
   "display_name": "Python 3 (ipykernel)",
   "language": "python",
   "name": "python3"
  },
  "language_info": {
   "codemirror_mode": {
    "name": "ipython",
    "version": 3
   },
   "file_extension": ".py",
   "mimetype": "text/x-python",
   "name": "python",
   "nbconvert_exporter": "python",
   "pygments_lexer": "ipython3",
   "version": "3.10.13"
  }
 },
 "nbformat": 4,
 "nbformat_minor": 5
}
