{
 "cells": [
  {
   "cell_type": "code",
   "execution_count": 3,
   "id": "33df1233-0891-49e9-8e30-af632046a067",
   "metadata": {},
   "outputs": [],
   "source": [
    "import crocoddyl\n",
    "import numpy as np\n",
    "from arm_model import create_arm\n"
   ]
  },
  {
   "cell_type": "code",
   "execution_count": 4,
   "id": "6ba51c83-2f40-4b5e-aba1-7aa7ed5579c5",
   "metadata": {},
   "outputs": [],
   "source": [
    "class ResidualModelEnergy(crocoddyl.ResidualModelAbstract):\n",
    "    def __init__(self, state):\n",
    "\n",
    "        self.nq, self.nv = state.nq, state.nv        \n",
    "        crocoddyl.ResidualModelAbstract.__init__(self, state, self.nv, True, True, True)\n",
    "    \n",
    "    def calc(self, data, x, u):\n",
    "        v = x[self.nq:]\n",
    "        for i in range(self.nv):\n",
    "            data.r[i] = v[i]*u[i]\n",
    "\n",
    "    def calcDiff(self, data, x, u):\n",
    "        v = x[self.nq:]\n",
    "        data.Rx[:,self.nv:] = np.diag(u)       \n",
    "        data.Ru = np.diag(v)\n"
   ]
  },
  {
   "cell_type": "code",
   "execution_count": 5,
   "id": "049b1725-ca94-43fe-9a6e-6b0b31cff944",
   "metadata": {},
   "outputs": [],
   "source": [
    "rmodel, rdata, gmodel, cmodel = create_arm()\n",
    "\n",
    "state = crocoddyl.StateMultibody(rmodel)\n",
    "actuation = crocoddyl.ActuationModelFull(state)"
   ]
  },
  {
   "cell_type": "code",
   "execution_count": 9,
   "id": "ad6b2b6f-cbb2-439f-93c5-7c5d4ad41b1c",
   "metadata": {},
   "outputs": [],
   "source": [
    "x0 = 2.0*np.ones(rmodel.nq + rmodel.nv)\n",
    "u0 = np.ones(rmodel.nv)\n",
    "\n",
    "cost = ResidualModelEnergy(state)\n",
    "data = cost.createData(crocoddyl.DataCollectorMultibody(state.pinocchio.createData(), actuation.createData()))\n",
    "cost.calc(data, x0, u0)\n",
    "cost.calcDiff(data, x0, u0)"
   ]
  },
  {
   "cell_type": "code",
   "execution_count": 10,
   "id": "dcc5f614-b5d5-45d6-8f20-55a4a2762f19",
   "metadata": {},
   "outputs": [
    {
     "data": {
      "text/plain": [
       "array([[2., 0., 0., 0., 0.],\n",
       "       [0., 2., 0., 0., 0.],\n",
       "       [0., 0., 2., 0., 0.],\n",
       "       [0., 0., 0., 2., 0.],\n",
       "       [0., 0., 0., 0., 2.]])"
      ]
     },
     "execution_count": 10,
     "metadata": {},
     "output_type": "execute_result"
    }
   ],
   "source": [
    "data.Ru"
   ]
  },
  {
   "cell_type": "code",
   "execution_count": 11,
   "id": "98c55c5d-ada3-452d-ac91-e66b7743ea4f",
   "metadata": {},
   "outputs": [
    {
     "data": {
      "text/plain": [
       "5"
      ]
     },
     "execution_count": 11,
     "metadata": {},
     "output_type": "execute_result"
    }
   ],
   "source": [
    "state.nv"
   ]
  }
 ],
 "metadata": {
  "kernelspec": {
   "display_name": "Python 3 (ipykernel)",
   "language": "python",
   "name": "python3"
  },
  "language_info": {
   "codemirror_mode": {
    "name": "ipython",
    "version": 3
   },
   "file_extension": ".py",
   "mimetype": "text/x-python",
   "name": "python",
   "nbconvert_exporter": "python",
   "pygments_lexer": "ipython3",
   "version": "3.10.14"
  }
 },
 "nbformat": 4,
 "nbformat_minor": 5
}
