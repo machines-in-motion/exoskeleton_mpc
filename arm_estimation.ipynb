{
 "cells": [
  {
   "cell_type": "code",
   "execution_count": 1,
   "metadata": {},
   "outputs": [
    {
     "name": "stderr",
     "output_type": "stream",
     "text": [
      "/usr/lib/python3/dist-packages/scipy/__init__.py:146: UserWarning: A NumPy version >=1.17.3 and <1.25.0 is required for this version of SciPy (detected version 1.26.4\n",
      "  warnings.warn(f\"A NumPy version >={np_minversion} and <{np_maxversion}\"\n"
     ]
    }
   ],
   "source": [
    "import meshcat\n",
    "from utils import *\n",
    "from interface import ExoIMUs\n",
    "import time \n",
    "import collections\n",
    "\n",
    "\n",
    "# from estimation_problem import solve_estimation_problem\n",
    "from utils import ArmMeasurementCurrent\n",
    "from arm_model import create_arm\n",
    "from pinocchio.visualize import MeshcatVisualizer as Visualizer\n"
   ]
  },
  {
   "cell_type": "code",
   "execution_count": 3,
   "metadata": {},
   "outputs": [],
   "source": [
    "imu = ExoIMUs(\"/dev/ttyACM0\")"
   ]
  },
  {
   "cell_type": "code",
   "execution_count": 4,
   "metadata": {},
   "outputs": [
    {
     "name": "stdout",
     "output_type": "stream",
     "text": [
      "You can open the visualizer by visiting the following URL:\n",
      "http://127.0.0.1:7012/static/\n"
     ]
    },
    {
     "data": {
      "text/html": [
       "\n",
       "            <div style=\"height: 400px; width: 100%; overflow-x: auto; overflow-y: hidden; resize: both\">\n",
       "            <iframe src=\"http://127.0.0.1:7012/static/\" style=\"width: 100%; height: 100%; border: none\"></iframe>\n",
       "            </div>\n",
       "            "
      ],
      "text/plain": [
       "<IPython.core.display.HTML object>"
      ]
     },
     "execution_count": 4,
     "metadata": {},
     "output_type": "execute_result"
    }
   ],
   "source": [
    "rmodel, rdata, gmodel, cmodel = create_arm()\n",
    "viz = Visualizer(rmodel, gmodel, cmodel)\n",
    "viz.initViewer(open=False)\n",
    "viz.loadViewerModel()\n",
    "viz.initializeFrames()\n",
    "viz.display_frames = True\n",
    "\n",
    "add_frame(\"hand\", viz.viewer)\n",
    "add_frame(\"shoulder\", viz.viewer)\n",
    "\n",
    "viz.viewer.jupyter_cell()"
   ]
  },
  {
   "cell_type": "code",
   "execution_count": 13,
   "metadata": {},
   "outputs": [
    {
     "ename": "KeyboardInterrupt",
     "evalue": "",
     "output_type": "error",
     "traceback": [
      "\u001b[0;31m---------------------------------------------------------------------------\u001b[0m",
      "\u001b[0;31mKeyboardInterrupt\u001b[0m                         Traceback (most recent call last)",
      "Cell \u001b[0;32mIn[13], line 31\u001b[0m\n\u001b[1;32m     28\u001b[0m         estimate_x0 \u001b[38;5;241m=\u001b[39m estimate\u001b[38;5;241m.\u001b[39mxs[\u001b[38;5;241m-\u001b[39m\u001b[38;5;241m1\u001b[39m]\n\u001b[1;32m     30\u001b[0m counter \u001b[38;5;241m+\u001b[39m\u001b[38;5;241m=\u001b[39m \u001b[38;5;241m1\u001b[39m\n\u001b[0;32m---> 31\u001b[0m \u001b[43mtime\u001b[49m\u001b[38;5;241;43m.\u001b[39;49m\u001b[43msleep\u001b[49m\u001b[43m(\u001b[49m\u001b[38;5;241;43m0.01\u001b[39;49m\u001b[43m)\u001b[49m\n",
      "\u001b[0;31mKeyboardInterrupt\u001b[0m: "
     ]
    }
   ],
   "source": [
    "names = ['hand', 'base', 'shoulder']\n",
    "data_offset = []\n",
    "offset = [pin.utils.rpyToMatrix(np.pi/2.0, 0, 0), 0]\n",
    "counter = 0\n",
    "T = 10\n",
    "estimate_x0 = np.zeros(rmodel.nq + rmodel.nv)\n",
    "\n",
    "measurement = collections.deque(maxlen=T)\n",
    "\n",
    "while True:\n",
    "    data = imu.read()\n",
    "    # print(data[\"base_acc\"], data[\"shoulder_acc\"], data[\"hand_acc\"])\n",
    "    base = Rotation.from_quat(data['q_base']).as_matrix()\n",
    "    shoulder = Rotation.from_quat(data['q_shoulder']).as_matrix()\n",
    "    hand = Rotation.from_quat(data['q_hand']).as_matrix()\n",
    "    if counter < 100:\n",
    "        data_offset.append([base.T @ shoulder, base.T @ hand])\n",
    "    elif counter == 100:\n",
    "        offset[0] = offset[0] @ data_offset[50][0].T\n",
    "        offset[1] = data_offset[50][1].T\n",
    "    else:\n",
    "        update_frame('hand', viz.viewer, offset[1] @ base.T @ hand, [0.5, 0, 0])\n",
    "        update_frame(\"shoulder\", viz.viewer,   offset[0] @ base.T @ shoulder)\n",
    "        measurement.append(ArmMeasurementCurrent( offset[0] @ base.T @ shoulder, offset[1] @ base.T @ hand))\n",
    "        if counter > T + 100:\n",
    "            estimate = solve_estimation_problem(measurement, T, rmodel, estimate_x0)\n",
    "            viz.display(estimate.xs[-1][:rmodel.nq])\n",
    "            estimate_x0 = estimate.xs[-1]\n",
    " \n",
    "    counter += 1\n",
    "    time.sleep(0.01)"
   ]
  },
  {
   "cell_type": "code",
   "execution_count": 12,
   "metadata": {},
   "outputs": [],
   "source": [
    "import crocoddyl\n",
    "# from mim_solvers import SolverSQP\n",
    "import numpy as np\n",
    "\n",
    "def solve_estimation_problem(measurements, T, rmodel, x0):\n",
    "    rdata = rmodel.createData()\n",
    "    nq = rmodel.nq; nv = rmodel.nv; nu = nq; nx = nq+nv\n",
    "\n",
    "    \n",
    "    dt = 1e-2\n",
    "    \n",
    "    # # # # # # # # # # # # # # #\n",
    "    ###  SETUP CROCODDYL OCP  ###\n",
    "    # # # # # # # # # # # # # # #\n",
    "    \n",
    "    # State and actuation model\n",
    "    state = crocoddyl.StateMultibody(rmodel)\n",
    "    actuation = crocoddyl.ActuationModelFull(state)\n",
    "    \n",
    "    # Create cost terms \n",
    "    # Control regularization cost\n",
    "    uResidual = crocoddyl.ResidualModelControlGrav(state)\n",
    "    uRegCost = crocoddyl.CostModelResidual(state, uResidual)\n",
    "    # State regularization cost\n",
    "    xResidual = crocoddyl.ResidualModelState(state, x0)\n",
    "    xRegCost = crocoddyl.CostModelResidual(state, xResidual)\n",
    "\n",
    "    runningModel = []\n",
    "    for i in range(T):\n",
    "        # endeff frame orientation cost\n",
    "        endeff_frame_id = rmodel.getFrameId(\"Hand\")\n",
    "        frameOrientationResidual = crocoddyl.ResidualModelFrameRotation(state, endeff_frame_id, measurements[i].palm_orientation)\n",
    "        frameOrientationCost = crocoddyl.CostModelResidual(state, frameOrientationResidual)\n",
    "\n",
    "        imu_arm_id = rmodel.getFrameId(\"imu_arm\")\n",
    "        imuArmOrientationResidual = crocoddyl.ResidualModelFrameRotation(state, imu_arm_id, measurements[i].arm_orientation)\n",
    "        imuArmOrientationCost = crocoddyl.CostModelResidual(state, imuArmOrientationResidual)\n",
    "        \n",
    "        # Running and terminal cost models\n",
    "        runningCostModel = crocoddyl.CostModelSum(state)\n",
    "        terminalCostModel = crocoddyl.CostModelSum(state)\n",
    "        \n",
    "        # Add costs\n",
    "        runningCostModel.addCost(\"stateReg\", xRegCost, 5e-3)\n",
    "        runningCostModel.addCost(\"ctrlRegGrav\", uRegCost, 5e-1)\n",
    "        runningCostModel.addCost(\"shoulderOrientation\", imuArmOrientationCost, 5e1)\n",
    "        runningCostModel.addCost(\"wristOrientation\", frameOrientationCost, 5e1)\n",
    "        \n",
    "    \n",
    "        # Create Differential Action Model (DAM), i.e. continuous dynamics and cost functions\n",
    "        running_DAM = crocoddyl.DifferentialActionModelFreeFwdDynamics(state, actuation, runningCostModel)\n",
    "        runningModel.append(crocoddyl.IntegratedActionModelEuler(running_DAM, dt))\n",
    "\n",
    "    terminal_DAM = crocoddyl.DifferentialActionModelFreeFwdDynamics(state, actuation, runningCostModel)\n",
    "    \n",
    "    # Create Integrated Action Model (IAM), i.e. Euler integration of continuous dynamics and cost\n",
    "    \n",
    "    terminalModel = crocoddyl.IntegratedActionModelEuler(terminal_DAM, 0.)\n",
    "        \n",
    "    # Create the shooting problem\n",
    "    problem = crocoddyl.ShootingProblem(x0, runningModel, terminalModel)\n",
    "    \n",
    "    # Create solver + callbacks\n",
    "    # ddp = SolverSQP(problem)\n",
    "    ddp = crocoddyl.SolverDDP(problem)\n",
    "    ddp.setCallbacks([crocoddyl.CallbackLogger()])\n",
    "    ddp.use_filter_line_search = True\n",
    "    \n",
    "    # Warm start : initial state + gravity compensation\n",
    "    xs_init = [x0 for i in range(T+1)]\n",
    "    us_init = ddp.problem.quasiStatic(xs_init[:-1])\n",
    "    \n",
    "    # Solve\n",
    "    ddp.solve(xs_init, us_init, maxiter=10)\n",
    "    \n",
    "    return ddp"
   ]
  }
 ],
 "metadata": {
  "kernelspec": {
   "display_name": "Python 3",
   "language": "python",
   "name": "python3"
  },
  "language_info": {
   "codemirror_mode": {
    "name": "ipython",
    "version": 3
   },
   "file_extension": ".py",
   "mimetype": "text/x-python",
   "name": "python",
   "nbconvert_exporter": "python",
   "pygments_lexer": "ipython3",
   "version": "3.10.12"
  }
 },
 "nbformat": 4,
 "nbformat_minor": 2
}
