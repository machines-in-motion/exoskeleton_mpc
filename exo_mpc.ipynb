{
 "cells": [
  {
   "cell_type": "code",
   "execution_count": 75,
   "metadata": {},
   "outputs": [],
   "source": [
    "import meshcat\n",
    "from utils import *\n",
    "from interface import ExoSkeletonUDPInterface\n",
    "import time \n",
    "import collections\n",
    "\n",
    "\n",
    "from estimation_problem import solve_estimation_problem\n",
    "from utils import ArmMeasurementCurrent\n",
    "from arm_model import create_arm\n",
    "from reaching_problem import solve_reaching_problem\n",
    "from pinocchio.visualize import MeshcatVisualizer as Visualizer\n",
    "import pinocchio as pin\n",
    "\n",
    "import vicon_sdk_cpp\n",
    "from vicon_sdk_cpp import ViconClient, ViconFrame\n"
   ]
  },
  {
   "cell_type": "code",
   "execution_count": 2,
   "metadata": {},
   "outputs": [
    {
     "name": "stdout",
     "output_type": "stream",
     "text": [
      "Connecting to Vicon 172.24.117.119:801... \n",
      "Connected to Vicon System.\n",
      "Warning this thread is not going to be real time.\n"
     ]
    }
   ],
   "source": [
    "# Connect to the server using a ViconClient.\n",
    "client = ViconClient()\n",
    "client.initialize(\"172.24.117.119:801\")\n",
    "client.run()\n",
    "\n",
    "# Create a frame to hold the received data.\n",
    "base_frame = ViconFrame()\n",
    "target_frame = ViconFrame()"
   ]
  },
  {
   "cell_type": "code",
   "execution_count": 3,
   "metadata": {},
   "outputs": [
    {
     "name": "stdout",
     "output_type": "stream",
     "text": [
      "calibration ...\n",
      "setting offset ...\n",
      "finished calibration ...\n"
     ]
    }
   ],
   "source": [
    "interface = ExoSkeletonUDPInterface()\n",
    "counter = 0\n",
    "interface.calibrate()"
   ]
  },
  {
   "cell_type": "code",
   "execution_count": 76,
   "metadata": {},
   "outputs": [
    {
     "name": "stdout",
     "output_type": "stream",
     "text": [
      "You can open the visualizer by visiting the following URL:\n",
      "http://127.0.0.1:7013/static/\n"
     ]
    },
    {
     "data": {
      "text/html": [
       "\n",
       "            <div style=\"height: 400px; width: 100%; overflow-x: auto; overflow-y: hidden; resize: both\">\n",
       "            <iframe src=\"http://127.0.0.1:7013/static/\" style=\"width: 100%; height: 100%; border: none\"></iframe>\n",
       "            </div>\n",
       "            "
      ],
      "text/plain": [
       "<IPython.core.display.HTML object>"
      ]
     },
     "execution_count": 76,
     "metadata": {},
     "output_type": "execute_result"
    }
   ],
   "source": [
    "rmodel, rdata, gmodel, cmodel = create_arm()\n",
    "viz = Visualizer(rmodel, gmodel, cmodel)\n",
    "viz.initViewer(open=True)\n",
    "viz.loadViewerModel()\n",
    "viz.initializeFrames()\n",
    "viz.display_frames = True\n",
    "\n",
    "add_frame(\"hand\", viz.viewer)\n",
    "add_frame(\"shoulder\", viz.viewer)\n",
    "add_frame(\"target\", viz.viewer)\n",
    "\n",
    "\n",
    "viz.viewer.jupyter_cell()"
   ]
  },
  {
   "cell_type": "code",
   "execution_count": 77,
   "metadata": {},
   "outputs": [
    {
     "ename": "TypeError",
     "evalue": "'NoneType' object is not subscriptable",
     "output_type": "error",
     "traceback": [
      "\u001b[0;31m---------------------------------------------------------------------------\u001b[0m",
      "\u001b[0;31mTypeError\u001b[0m                                 Traceback (most recent call last)",
      "Cell \u001b[0;32mIn[77], line 19\u001b[0m\n\u001b[1;32m     17\u001b[0m state \u001b[38;5;241m=\u001b[39m interface\u001b[38;5;241m.\u001b[39mgetState()\n\u001b[1;32m     18\u001b[0m \u001b[38;5;66;03m# print(state[\"base_acc\"], state[\"shoulder_acc\"], state[\"wrist_acc\"])\u001b[39;00m\n\u001b[0;32m---> 19\u001b[0m base \u001b[38;5;241m=\u001b[39m Rotation\u001b[38;5;241m.\u001b[39mfrom_quat(\u001b[43mstate\u001b[49m\u001b[43m[\u001b[49m\u001b[38;5;124;43m\"\u001b[39;49m\u001b[38;5;124;43mbase_ori\u001b[39;49m\u001b[38;5;124;43m\"\u001b[39;49m\u001b[43m]\u001b[49m[\u001b[38;5;241m0\u001b[39m])\u001b[38;5;241m.\u001b[39mas_matrix()\n\u001b[1;32m     20\u001b[0m shoulder \u001b[38;5;241m=\u001b[39m Rotation\u001b[38;5;241m.\u001b[39mfrom_quat(state[\u001b[38;5;124m\"\u001b[39m\u001b[38;5;124mshoulder_ori\u001b[39m\u001b[38;5;124m\"\u001b[39m][\u001b[38;5;241m0\u001b[39m])\u001b[38;5;241m.\u001b[39mas_matrix()\n\u001b[1;32m     21\u001b[0m hand \u001b[38;5;241m=\u001b[39m Rotation\u001b[38;5;241m.\u001b[39mfrom_quat(state[\u001b[38;5;124m\"\u001b[39m\u001b[38;5;124mwrist_ori\u001b[39m\u001b[38;5;124m\"\u001b[39m][\u001b[38;5;241m0\u001b[39m])\u001b[38;5;241m.\u001b[39mas_matrix()\n",
      "\u001b[0;31mTypeError\u001b[0m: 'NoneType' object is not subscriptable"
     ]
    }
   ],
   "source": [
    "names = ['hand', 'base', 'shoulder']\n",
    "data_offset = []\n",
    "offset = [pin.utils.rpyToMatrix(np.pi/2.0, 0, 0), 0]\n",
    "counter = 0\n",
    "T = 10\n",
    "estimate_x0 = np.zeros(rmodel.nq + rmodel.nv)\n",
    "\n",
    "measurement = collections.deque(maxlen=T)\n",
    "\n",
    "target = np.array([ 0.40196694,  0.20887781, 0.2389792 ])\n",
    "offset_shoulder = 0\n",
    "torque = 0.0\n",
    "est_error = []\n",
    "while True:\n",
    "    # interface.setCommand([0], [0.], [0], [0], [torque])\n",
    "    time.sleep(0.001)\n",
    "    # state = interface.getState()\n",
    "    # print(state[\"base_acc\"], state[\"shoulder_acc\"], state[\"wrist_acc\"])\n",
    "    base = Rotation.from_quat(state[\"base_ori\"][0]).as_matrix()\n",
    "    shoulder = Rotation.from_quat(state[\"shoulder_ori\"][0]).as_matrix()\n",
    "    hand = Rotation.from_quat(state[\"wrist_ori\"][0]).as_matrix()\n",
    "    client.get_vicon_frame(\"exoskeleton_base/exoskeleton_base\", base_frame)\n",
    "    client.get_vicon_frame(\"Cube/Cube\", target_frame)\n",
    "    target = target_frame.se3_pose[:3] - base_frame.se3_pose[0:3]\n",
    "    target[0] -= 0.10\n",
    "    if counter < 100:\n",
    "        data_offset.append([base.T @ shoulder, base.T @ hand])\n",
    "    elif counter == 100:\n",
    "        offset[0] = offset[0] @ data_offset[50][0].T\n",
    "        offset[1] = data_offset[50][1].T\n",
    "    else:\n",
    "        update_frame('hand', viz.viewer, offset[1] @ base.T @ hand, [0.5, 0, 0])\n",
    "        update_frame(\"shoulder\", viz.viewer,   offset[0] @ base.T @ shoulder)\n",
    "        update_frame(\"target\", viz.viewer,  np.eye(3), target)\n",
    "\n",
    "        measurement.append(ArmMeasurementCurrent( offset[0] @ base.T @ shoulder, offset[1] @ base.T @ hand))\n",
    "        if counter > T + 100:\n",
    "            st = time.time()\n",
    "            estimate = solve_estimation_problem(measurement, T, rmodel, estimate_x0)\n",
    "            q,v = estimate.xs[-1][:rmodel.nq], estimate.xs[-1][rmodel.nq:] \n",
    "\n",
    "            if counter > 100 and counter < 120:\n",
    "                offset_shoulder = state[\"q\"] + estimate.xs[-1][1] \n",
    "            else:\n",
    "                estimate.xs[-1][1] += offset_shoulder\n",
    "            \n",
    "            viz.display(estimate.xs[-1][:rmodel.nq])\n",
    "            # estimate_x0 = estimate.xs[-1]\n",
    "            state[\"q\"] -= offset_shoulder\n",
    "            print(state[\"q\"]+estimate.xs[-1][1])\n",
    "            est_error.append(state[\"q\"]+estimate.xs[-1][1])\n",
    "            if counter > 120:\n",
    "                st = time.time()\n",
    "                ddp = solve_reaching_problem1(target, q, rmodel)\n",
    "                et = time.time()\n",
    "                # print(et - st)\n",
    "                # for i in range(len(ddp.xs)):\n",
    "                #     viz.display(ddp.xs[i][:rmodel.nq])\n",
    "                # torque = max(0.05,-0.4*ddp.us[1][1])\n",
    "                torque = 0\n",
    "\n",
    "                # print(torque,  estimate.xs[-1][1], state[\"q\"], state[\"motor_q\"], state[\"shoulder_acc\"])\n",
    "\n",
    "\n",
    "    counter += 1\n"
   ]
  },
  {
   "cell_type": "code",
   "execution_count": 72,
   "metadata": {},
   "outputs": [
    {
     "data": {
      "text/plain": [
       "[<matplotlib.lines.Line2D at 0x7e3a62835ed0>]"
      ]
     },
     "execution_count": 72,
     "metadata": {},
     "output_type": "execute_result"
    },
    {
     "data": {
      "image/png": "[encoded data removed]",
      "text/plain": [
       "<Figure size 640x480 with 1 Axes>"
      ]
     },
     "metadata": {},
     "output_type": "display_data"
    }
   ],
   "source": [
    "import matplotlib.pyplot as plt\n",
    "plt.plot(est_error)"
   ]
  },
  {
   "cell_type": "code",
   "execution_count": 5,
   "metadata": {},
   "outputs": [],
   "source": [
    "## This file contains a simple shooting problem for reaching task of the hand\n",
    "## This file is based on minimal examples crocoddyl\n",
    "## Author : Avadesh Meduri\n",
    "## Date : 29/02/2024\n",
    "\n",
    "from mim_solvers import SolverSQP, SolverCSQP\n",
    "import numpy as np\n",
    "import pinocchio as pin\n",
    "import crocoddyl\n",
    "\n",
    "\n",
    "def solve_reaching_problem1(x_des, q0, rmodel):\n",
    "    rdata = rmodel.createData()\n",
    "    nq = rmodel.nq; nv = rmodel.nv; nu = nq; nx = nq+nv\n",
    "    v0 = np.zeros(nv)\n",
    "    x0 = np.concatenate([q0, v0])\n",
    "    pin.framesForwardKinematics(rmodel, rdata, q0)\n",
    "    pin.computeJointJacobians(rmodel, rdata, q0)\n",
    "    \n",
    "    \n",
    "    # # # # # # # # # # # # # # #\n",
    "    ###  SETUP CROCODDYL OCP  ###\n",
    "    # # # # # # # # # # # # # # #\n",
    "    \n",
    "    # State and actuation model\n",
    "    state = crocoddyl.StateMultibody(rmodel)\n",
    "    actuation = crocoddyl.ActuationModelFull(state)\n",
    "    \n",
    "    # Running and terminal cost models\n",
    "    runningCostModel = crocoddyl.CostModelSum(state)\n",
    "    terminalCostModel = crocoddyl.CostModelSum(state)\n",
    "    \n",
    "    \n",
    "    # Create cost terms \n",
    "    # Control regularization cost\n",
    "    uResidual = crocoddyl.ResidualModelControlGrav(state)\n",
    "    uRegCost = crocoddyl.CostModelResidual(state, uResidual)\n",
    "    # State regularization cost\n",
    "    xResidual = crocoddyl.ResidualModelState(state, x0)\n",
    "    xRegCost = crocoddyl.CostModelResidual(state, xResidual)\n",
    "    # endeff frame translation cost\n",
    "    endeff_frame_id = rmodel.getFrameId(\"Hand\")\n",
    "    endeff_translation = x_des # move endeff +10 cm along x in WORLD frame\n",
    "    frameTranslationResidual = crocoddyl.ResidualModelFrameTranslation(state, endeff_frame_id, endeff_translation)\n",
    "    frameTranslationCost = crocoddyl.CostModelResidual(state, frameTranslationResidual)\n",
    "    frameVelocityResidual = crocoddyl.ResidualModelFrameVelocity(state, endeff_frame_id, pin.Motion(np.zeros(6)), pin.LOCAL_WORLD_ALIGNED)\n",
    "    frameVelocityCost = crocoddyl.CostModelResidual(state, frameVelocityResidual)\n",
    "\n",
    "    # Add costs\n",
    "    runningCostModel.addCost(\"stateReg\", xRegCost, 1e-1)\n",
    "    runningCostModel.addCost(\"ctrlRegGrav\", uRegCost, 1e-3)\n",
    "    runningCostModel.addCost(\"translation\", frameTranslationCost, 0.5)\n",
    "    terminalCostModel.addCost(\"stateReg\", xRegCost, 1e-1)\n",
    "    terminalCostModel.addCost(\"translation\", frameTranslationCost, 1e1)\n",
    "    terminalCostModel.addCost(\"veloctiy\", frameVelocityCost, 1e2)\n",
    "\n",
    "\n",
    "    # Create Differential Action Model (DAM), i.e. continuous dynamics and cost functions\n",
    "    running_DAM = crocoddyl.DifferentialActionModelFreeFwdDynamics(state, actuation, runningCostModel)\n",
    "    terminal_DAM = crocoddyl.DifferentialActionModelFreeFwdDynamics(state, actuation, terminalCostModel)\n",
    "    \n",
    "    # Create Integrated Action Model (IAM), i.e. Euler integration of continuous dynamics and cost\n",
    "    dt = 1e-1\n",
    "    runningModel = crocoddyl.IntegratedActionModelEuler(running_DAM, dt)\n",
    "    terminalModel = crocoddyl.IntegratedActionModelEuler(terminal_DAM, 0.)\n",
    "        \n",
    "    # Create the shooting problem\n",
    "    T = 10\n",
    "    problem = crocoddyl.ShootingProblem(x0, [runningModel] * T, terminalModel)\n",
    "    \n",
    "    # Create solver + callbacks\n",
    "    ddp = SolverSQP(problem)\n",
    "    ddp.setCallbacks([crocoddyl.CallbackLogger()])\n",
    "    ddp.use_filter_line_search = True\n",
    "    \n",
    "    # Warm start : initial state + gravity compensation\n",
    "    xs_init = [x0 for i in range(T+1)]\n",
    "    us_init = ddp.problem.quasiStatic(xs_init[:-1])\n",
    "    \n",
    "    # Solve\n",
    "    ddp.solve(xs_init, us_init, maxiter=10)\n",
    "    \n",
    "    return ddp"
   ]
  },
  {
   "cell_type": "code",
   "execution_count": 47,
   "metadata": {},
   "outputs": [
    {
     "data": {
      "text/plain": [
       "  R =\n",
       "-0.0224959  -0.413974   0.910011\n",
       " 0.0435052   0.908973   0.414578\n",
       "   -0.9988  0.0489165 -0.0024381\n",
       "  p =  0.445739  0.865815 0.0773163"
      ]
     },
     "execution_count": 47,
     "metadata": {},
     "output_type": "execute_result"
    }
   ],
   "source": [
    "import pinocchio as pin\n",
    "client.get_vicon_frame(\"exoskeleton_base/exoskeleton_base\", base_frame)\n",
    "client.get_vicon_frame(\"Cube/Cube\", target_frame)\n",
    "base_T_vicon = pin.SE3(pin.Quaternion(base_frame.se3_pose[3:]),base_frame.se3_pose[0:3]).inverse()\n",
    "vicon_T_cube = pin.SE3(pin.Quaternion(target_frame.se3_pose[3:]),target_frame.se3_pose[0:3])\n",
    "\n",
    "base_T_cube = base_T_vicon*vicon_T_cube\n",
    "base_T_cube"
   ]
  },
  {
   "cell_type": "code",
   "execution_count": null,
   "metadata": {},
   "outputs": [],
   "source": []
  }
 ],
 "metadata": {
  "kernelspec": {
   "display_name": "Python 3",
   "language": "python",
   "name": "python3"
  },
  "language_info": {
   "codemirror_mode": {
    "name": "ipython",
    "version": 3
   },
   "file_extension": ".py",
   "mimetype": "text/x-python",
   "name": "python",
   "nbconvert_exporter": "python",
   "pygments_lexer": "ipython3",
   "version": "3.10.14"
  }
 },
 "nbformat": 4,
 "nbformat_minor": 2
}
