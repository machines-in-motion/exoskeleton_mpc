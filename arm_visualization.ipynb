{
 "cells": [
  {
   "cell_type": "code",
   "execution_count": 1,
   "id": "dcf875e4-a334-4406-820d-d0db8d6e604b",
   "metadata": {},
   "outputs": [],
   "source": [
    "import pinocchio as pin\n",
    "import numpy as np\n",
    "import hppfcl as fcl\n",
    "from pinocchio.visualize import MeshcatVisualizer as Visualizer"
   ]
  },
  {
   "cell_type": "code",
   "execution_count": 65,
   "id": "58df9f6c-fe5f-4ff7-bb60-302898edf38a",
   "metadata": {},
   "outputs": [],
   "source": [
    "# My Desired\n",
    "parent_id = 0\n",
    "arm_mass = 5.0\n",
    "upper_arm_radius = 2e-2\n",
    "upper_arm_length = 0.25\n",
    "lower_arm_radius = 1e-2\n",
    "lower_arm_length = 0.25\n",
    "axis_length = 0.1 # length of the co-ordinate axis rectangle\n",
    "\n",
    "\n",
    "rmodel = pin.Model()\n",
    "rmodel.name = \"Human Arm\"\n",
    "gmodel = pin.GeometryModel()\n",
    "\n",
    "# Joint\n",
    "joint_name = \"Shoulder\"\n",
    "Base_placement = pin.SE3.Identity()\n",
    "Base_id = rmodel.addJoint(parent_id, pin.JointModelSphericalZYX(), Base_placement, joint_name)\n",
    "\n",
    "frame_name = \"imu_arm\"\n",
    "imu_arm_placement = pin.SE3.Identity()\n",
    "imu_arm_placement.rotation = pin.utils.rpyToMatrix(0,-np.pi/2.0,0) @ pin.utils.rpyToMatrix(-np.pi,0,0)\n",
    "imu_arm_placement.translation[2] = -upper_arm_length/2.0\n",
    "imu_arm_frame = pin.Frame(frame_name, Base_id, parent_id, imu_arm_placement, pin.OP_FRAME)\n",
    "rmodel.addFrame(imu_arm_frame)\n",
    "\n",
    "joint_name = \"Elbow\"\n",
    "elbow_placement = pin.SE3.Identity()\n",
    "elbow_placement.translation[2] = -upper_arm_length\n",
    "elbow_id = rmodel.addJoint(Base_id, pin.JointModelRY(), elbow_placement, joint_name)\n",
    "\n",
    "joint_name = \"lower_arm_rotation\"\n",
    "lar = pin.SE3.Identity()\n",
    "lar.translation[2] = -lower_arm_length/2\n",
    "lar_id = rmodel.addJoint(elbow_id, pin.JointModelRZ(), lar, joint_name)\n",
    "\n",
    "frame_name = \"Hand\"\n",
    "hand_placement = pin.SE3.Identity()\n",
    "hand_placement.rotation = pin.utils.rpyToMatrix(np.pi/2.0,-np.pi/2.0,0.0)\n",
    "hand_placement.translation[2] = -lower_arm_length/2.0\n",
    "hand_frame = pin.Frame(frame_name, lar_id, lar_id, hand_placement, pin.OP_FRAME)\n",
    "hand_id = rmodel.addFrame(hand_frame)\n",
    "\n",
    "# Upper Arm\n",
    "leg_inertia = pin.Inertia.FromCylinder(arm_mass, upper_arm_radius, upper_arm_length)\n",
    "leg_placement = Base_placement.copy()\n",
    "leg_placement.translation[2] = -upper_arm_length/2.0\n",
    "rmodel.appendBodyToJoint(Base_id, leg_inertia, leg_placement)\n",
    "\n",
    "geom_name = \"Upper Arm\"\n",
    "shape = fcl.Cylinder(upper_arm_radius, upper_arm_length)\n",
    "shape_placement = leg_placement.copy()\n",
    "\n",
    "geom_obj = pin.GeometryObject(geom_name, Base_id, shape, shape_placement)\n",
    "geom_obj.meshColor = np.array([1.,1.,1.,1.])\n",
    "gmodel.addGeometryObject(geom_obj)\n",
    "\n",
    "# Lower Arm1\n",
    "lower_arm_inertia = pin.Inertia.FromCylinder(arm_mass, lower_arm_radius, lower_arm_length/2)\n",
    "lower_arm_placement = elbow_placement.copy()\n",
    "lower_arm_placement.translation[2] = -lower_arm_length/4.0\n",
    "rmodel.appendBodyToJoint(elbow_id, lower_arm_inertia, lower_arm_placement)\n",
    "\n",
    "geom_name = \"Lower Arm1\"\n",
    "shape = fcl.Cylinder(lower_arm_radius, lower_arm_length/2.0)\n",
    "shape_placement = lower_arm_placement.copy()\n",
    "\n",
    "lower_arm_obj = pin.GeometryObject(geom_name, elbow_id, shape, shape_placement)\n",
    "lower_arm_obj.meshColor = np.array([1.,0.,0.,1.])\n",
    "gmodel.addGeometryObject(lower_arm_obj)\n",
    "\n",
    "#Lower Arm2\n",
    "lower_arm_inertia2 = pin.Inertia.FromCylinder(arm_mass, lower_arm_radius, lower_arm_length/2)\n",
    "lower_arm_placement2 = lar.copy()\n",
    "lower_arm_placement2.translation[2] = -lower_arm_length/4.0\n",
    "rmodel.appendBodyToJoint(lar_id, lower_arm_inertia2, lower_arm_placement2)\n",
    "\n",
    "geom_name = \"Lower Arm2\"\n",
    "shape = fcl.Cylinder(1.5*lower_arm_radius, lower_arm_length/2.0)\n",
    "shape_placement = lower_arm_placement2.copy()\n",
    "\n",
    "lower_arm_obj2 = pin.GeometryObject(geom_name, lar_id, shape, shape_placement)\n",
    "lower_arm_obj2.meshColor = np.array([1.,1.,0.,1.])\n",
    "gmodel.addGeometryObject(lower_arm_obj2)\n",
    "\n",
    "\n",
    "# Hand \n",
    "shape_base = fcl.Box(0.05,0.05,0.05)\n",
    "placement = pin.SE3.Identity()\n",
    "placement.translation[2] = -lower_arm_length/2.0 - 0.05/2.0\n",
    "hand = pin.GeometryObject(\"hand\", hand_id, lar_id, shape_base, placement)\n",
    "hand.meshColor = np.array([0.,1.0,1.0,1.])\n",
    "gmodel.addGeometryObject(hand)\n",
    "\n",
    "cmodel = gmodel\n",
    "rdata = rmodel.createData()\n",
    "gdata = gmodel.createData()"
   ]
  },
  {
   "cell_type": "code",
   "execution_count": 66,
   "id": "e1ca45c6-999c-4e1d-b7f0-b237b8d2a70c",
   "metadata": {},
   "outputs": [
    {
     "name": "stdout",
     "output_type": "stream",
     "text": [
      "You can open the visualizer by visiting the following URL:\n",
      "http://127.0.0.1:7019/static/\n"
     ]
    },
    {
     "data": {
      "text/html": [
       "\n",
       "            <div style=\"height: 400px; width: 100%; overflow-x: auto; overflow-y: hidden; resize: both\">\n",
       "            <iframe src=\"http://127.0.0.1:7019/static/\" style=\"width: 100%; height: 100%; border: none\"></iframe>\n",
       "            </div>\n",
       "            "
      ],
      "text/plain": [
       "<IPython.core.display.HTML object>"
      ]
     },
     "execution_count": 66,
     "metadata": {},
     "output_type": "execute_result"
    }
   ],
   "source": [
    "viz = Visualizer(rmodel, gmodel, cmodel)\n",
    "viz.initViewer(open=False)\n",
    "viz.loadViewerModel()\n",
    "viz.initializeFrames()\n",
    "\n",
    "viz.viewer.jupyter_cell()"
   ]
  },
  {
   "cell_type": "code",
   "execution_count": 68,
   "id": "11701a2c-417c-438c-80e9-f9b1c64142dc",
   "metadata": {},
   "outputs": [],
   "source": [
    "q = np.array([0,0,np.pi/4.0, 0.0,0.0])\n",
    "pin.framesForwardKinematics(rmodel, rdata, q)\n",
    "pin.updateFramePlacements(rmodel, rdata)\n",
    "viz.display_frames = True\n",
    "viz.display(q)\n"
   ]
  },
  {
   "cell_type": "code",
   "execution_count": 5,
   "id": "a90dc38b-63e9-4ace-a87b-cf401d5b535a",
   "metadata": {},
   "outputs": [],
   "source": [
    "a = pin.Quaternion(np.array([0,0,0.9,1]))"
   ]
  },
  {
   "cell_type": "code",
   "execution_count": null,
   "id": "f8475f16-9d70-4c43-b26d-edfaa6ce5579",
   "metadata": {},
   "outputs": [],
   "source": []
  }
 ],
 "metadata": {
  "kernelspec": {
   "display_name": "Python 3 (ipykernel)",
   "language": "python",
   "name": "python3"
  },
  "language_info": {
   "codemirror_mode": {
    "name": "ipython",
    "version": 3
   },
   "file_extension": ".py",
   "mimetype": "text/x-python",
   "name": "python",
   "nbconvert_exporter": "python",
   "pygments_lexer": "ipython3",
   "version": "3.10.13"
  }
 },
 "nbformat": 4,
 "nbformat_minor": 5
}
