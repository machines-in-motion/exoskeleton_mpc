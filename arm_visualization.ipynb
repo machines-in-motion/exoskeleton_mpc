{
 "cells": [
  {
   "cell_type": "code",
   "execution_count": 206,
   "id": "dcf875e4-a334-4406-820d-d0db8d6e604b",
   "metadata": {},
   "outputs": [],
   "source": [
    "import pinocchio as pin\n",
    "import numpy as np\n",
    "import hppfcl as fcl\n",
    "from pinocchio.visualize import MeshcatVisualizer as Visualizer\n",
    "import time\n",
    "import meshcat\n",
    "from ipywidgets import interact\n",
    "import ipywidgets as widgets"
   ]
  },
  {
   "cell_type": "code",
   "execution_count": 323,
   "id": "58df9f6c-fe5f-4ff7-bb60-302898edf38a",
   "metadata": {},
   "outputs": [],
   "source": [
    "parent_id = 0\n",
    "arm_mass = 0.7\n",
    "upper_arm_radius = 2e-2\n",
    "upper_arm_length = 0.25\n",
    "lower_arm_radius = 1e-2\n",
    "lower_arm_length = 0.25\n",
    "axis_length = 0.1 # length of the co-ordinate axis rectangle\n",
    "\n",
    "\n",
    "rmodel = pin.Model()\n",
    "rmodel.name = \"Human Arm\"\n",
    "gmodel = pin.GeometryModel()\n",
    "\n",
    "# Joint\n",
    "joint_name = \"Shoulder_z\"\n",
    "Base_placement = pin.SE3.Identity()\n",
    "Base_placement.rotation = pin.utils.rpyToMatrix(0,0,np.pi/2.0)\n",
    "Sz = rmodel.addJoint(parent_id, pin.JointModelRZ(), Base_placement, joint_name)\n",
    "\n",
    "joint_name = \"Shoulder_x\"\n",
    "Base_placement = pin.SE3.Identity()\n",
    "Sx = rmodel.addJoint(Sz, pin.JointModelRX(), Base_placement, joint_name)\n",
    "\n",
    "frame_name = \"imu_arm\"\n",
    "imu_arm_placement = pin.SE3.Identity()\n",
    "imu_arm_placement.rotation = pin.utils.rpyToMatrix(0,np.pi/2.0,0) @ pin.utils.rpyToMatrix(np.pi, 0, 0) \n",
    "imu_arm_placement.translation[2] = -upper_arm_length/2.0\n",
    "imu_arm_frame = pin.Frame(frame_name, Sx, parent_id, imu_arm_placement, pin.OP_FRAME)\n",
    "rmodel.addFrame(imu_arm_frame)\n",
    "\n",
    "joint_name = \"upper_arm_rotation\"\n",
    "uar = pin.SE3.Identity()\n",
    "uar.rotation = pin.utils.rpyToMatrix(0,0,np.pi/2.0)\n",
    "uar.translation[2] = -lower_arm_length/2\n",
    "uar_id = rmodel.addJoint(Sx, pin.JointModelRZ(), uar, joint_name)\n",
    "\n",
    "joint_name = \"Elbow\"\n",
    "elbow_placement = pin.SE3.Identity()\n",
    "elbow_placement.translation[2] = -upper_arm_length/2.0\n",
    "elbow_id = rmodel.addJoint(uar_id, pin.JointModelRY(), elbow_placement, joint_name)\n",
    "\n",
    "joint_name = \"lower_arm_rotation\"\n",
    "lar = pin.SE3.Identity()\n",
    "lar.translation[2] = -lower_arm_length/2\n",
    "lar_id = rmodel.addJoint(elbow_id, pin.JointModelRZ(), lar, joint_name)\n",
    "\n",
    "frame_name = \"Hand\"\n",
    "hand_placement = pin.SE3.Identity()\n",
    "hand_placement.rotation = pin.utils.rpyToMatrix(0,np.pi/2.0,0.0) @ pin.utils.rpyToMatrix(-np.pi,0.0, 0)\n",
    "hand_placement.translation[2] = -lower_arm_length/2.0\n",
    "hand_frame = pin.Frame(frame_name, lar_id, lar_id, hand_placement, pin.OP_FRAME)\n",
    "hand_id = rmodel.addFrame(hand_frame)\n",
    "\n",
    "# Upper Arm Half\n",
    "upper_arm1_inertia = pin.Inertia.FromCylinder(arm_mass/2.0, upper_arm_radius, upper_arm_length/2.0)\n",
    "upper_arm1_placement = Base_placement.copy()\n",
    "upper_arm1_placement.translation[2] = -upper_arm_length/4.0\n",
    "rmodel.appendBodyToJoint(Sx, upper_arm1_inertia, upper_arm1_placement)\n",
    "\n",
    "geom_name = \"Upper Arm1\"\n",
    "shape = fcl.Cylinder(upper_arm_radius, upper_arm_length/2.0)\n",
    "shape_placement = upper_arm1_placement.copy()\n",
    "\n",
    "geom_obj = pin.GeometryObject(geom_name, Sx, shape, shape_placement)\n",
    "geom_obj.meshColor = np.array([1.,1.,1.,1.])\n",
    "gmodel.addGeometryObject(geom_obj)\n",
    "\n",
    "# Upper Arm2\n",
    "upper_arm2_inertia = pin.Inertia.FromCylinder(arm_mass/2, lower_arm_radius, upper_arm_length/2)\n",
    "upper_arm2_placement = uar.copy()\n",
    "upper_arm2_placement.translation[2] = -lower_arm_length/4.0\n",
    "rmodel.appendBodyToJoint(uar_id, upper_arm2_inertia, upper_arm2_placement)\n",
    "\n",
    "geom_name = \"Upper Arm2\"\n",
    "shape = fcl.Cylinder(lower_arm_radius, lower_arm_length/2.0)\n",
    "shape_placement = upper_arm2_placement.copy()\n",
    "\n",
    "lower_arm_obj = pin.GeometryObject(geom_name, uar_id, shape, shape_placement)\n",
    "lower_arm_obj.meshColor = np.array([1.,1.,0.,1.])\n",
    "gmodel.addGeometryObject(lower_arm_obj)\n",
    "\n",
    "# Lower Arm 1\n",
    "lower_arm_inertia = pin.Inertia.FromCylinder(arm_mass/2.0, lower_arm_radius, lower_arm_length/2.0)\n",
    "lower_arm_placement = elbow_placement.copy()\n",
    "lower_arm_placement.translation[2] = -lower_arm_length/4.0\n",
    "rmodel.appendBodyToJoint(elbow_id, lower_arm_inertia, lower_arm_placement)\n",
    "\n",
    "geom_name = \"Lower Arm1\"\n",
    "shape = fcl.Cylinder(1.5*lower_arm_radius, lower_arm_length/2.0)\n",
    "shape_placement = lower_arm_placement.copy()\n",
    "\n",
    "lower_arm_obj1 = pin.GeometryObject(geom_name, elbow_id, shape, shape_placement)\n",
    "lower_arm_obj1.meshColor = np.array([1.,0.,0.,1.])\n",
    "gmodel.addGeometryObject(lower_arm_obj1)\n",
    "\n",
    "# Lower Arm 2\n",
    "lower_arm_inertia2 = pin.Inertia.FromCylinder(arm_mass/2.0, lower_arm_radius, lower_arm_length/2.0)\n",
    "lower_arm_placement2 = elbow_placement.copy()\n",
    "lower_arm_placement2.translation[2] = -lower_arm_length/4.0\n",
    "rmodel.appendBodyToJoint(lar_id, lower_arm_inertia, lower_arm_placement)\n",
    "\n",
    "geom_name = \"Lower Arm2\"\n",
    "shape = fcl.Cylinder(lower_arm_radius, lower_arm_length/2.0)\n",
    "shape_placement = lower_arm_placement2.copy()\n",
    "\n",
    "lower_arm_obj2 = pin.GeometryObject(geom_name, lar_id, shape, shape_placement)\n",
    "lower_arm_obj2.meshColor = np.array([1.,1.,0.,1.])\n",
    "gmodel.addGeometryObject(lower_arm_obj2)\n",
    "\n",
    "\n",
    "# Hand \n",
    "shape_base = fcl.Box(0.05,0.05,0.05)\n",
    "placement = pin.SE3.Identity()\n",
    "placement.translation[2] = -lower_arm_length/2.0 - 0.05/2.0\n",
    "hand = pin.GeometryObject(\"hand\", hand_id, lar_id, shape_base, placement)\n",
    "hand.meshColor = np.array([0.,1.0,1.0,1.])\n",
    "gmodel.addGeometryObject(hand)\n",
    "\n",
    "\n",
    "cmodel = gmodel\n",
    "rdata = rmodel.createData()\n",
    "gdata = gmodel.createData()\n"
   ]
  },
  {
   "cell_type": "code",
   "execution_count": 324,
   "id": "e1ca45c6-999c-4e1d-b7f0-b237b8d2a70c",
   "metadata": {},
   "outputs": [
    {
     "name": "stdout",
     "output_type": "stream",
     "text": [
      "You can open the visualizer by visiting the following URL:\n",
      "http://127.0.0.1:7000/static/\n"
     ]
    }
   ],
   "source": [
    "viz = Visualizer(rmodel, gmodel, cmodel)\n",
    "viewer = meshcat.Visualizer(zmq_url = \"tcp://127.0.0.1:6000\")\n",
    "\n",
    "viz.initViewer(viewer)\n",
    "viz.loadViewerModel()\n",
    "viz.initializeFrames()\n",
    "viz.display_frames = True\n",
    "\n",
    "# viz.viewer.jupyter_cell()"
   ]
  },
  {
   "cell_type": "code",
   "execution_count": 325,
   "id": "f43a6c7d",
   "metadata": {},
   "outputs": [],
   "source": [
    "# q = np.array([0.5, 0.5, 0.5])\n",
    "# viz.display(q)"
   ]
  },
  {
   "cell_type": "code",
   "execution_count": 326,
   "id": "9dd8c6a9",
   "metadata": {},
   "outputs": [],
   "source": [
    "def move_joints(j1, j2, j3, j4, j5):\n",
    "    q = pin.neutral(rmodel)\n",
    "    q[0] = j1\n",
    "    q[1] = j2\n",
    "    q[2] = j3\n",
    "    q[3] = j4\n",
    "    q[4] = j5\n",
    "    viz.display(q)"
   ]
  },
  {
   "cell_type": "code",
   "execution_count": 327,
   "id": "3c1ff0ea",
   "metadata": {},
   "outputs": [
    {
     "data": {
      "application/vnd.jupyter.widget-view+json": {
       "model_id": "936e77ca4e0647639da1212ea4670417",
       "version_major": 2,
       "version_minor": 0
      },
      "text/plain": [
       "interactive(children=(FloatSlider(value=0.0, description='j1', max=2.0, min=-2.0), FloatSlider(value=0.0, desc…"
      ]
     },
     "metadata": {},
     "output_type": "display_data"
    },
    {
     "data": {
      "text/plain": [
       "<function __main__.move_joints(j1, j2, j3, j4, j5)>"
      ]
     },
     "execution_count": 327,
     "metadata": {},
     "output_type": "execute_result"
    }
   ],
   "source": [
    "interact(move_joints,\n",
    "         j1=(-2.,2), j2=(-5.,5), j3=(-2.,2), j4=(-2.,2), j5=(-2.,2))"
   ]
  },
  {
   "cell_type": "code",
   "execution_count": 307,
   "id": "11701a2c-417c-438c-80e9-f9b1c64142dc",
   "metadata": {},
   "outputs": [
    {
     "name": "stdout",
     "output_type": "stream",
     "text": [
      "[[-3.14136280e-17  7.07372017e-02  9.97494987e-01]\n",
      " [ 4.42976760e-16 -9.97494987e-01  7.07372017e-02]\n",
      " [ 1.00000000e+00  4.44089210e-16  4.93038066e-32]]\n"
     ]
    }
   ],
   "source": [
    "# q = np.array([0.0, -1.0,-1.5, 0.0, -np.pi/2.0])\n",
    "q = np.array([-1.5,0.0,0, 0.0, -np.pi/2.0])\n",
    "\n",
    "pin.framesForwardKinematics(rmodel, rdata, q)\n",
    "pin.updateFramePlacements(rmodel, rdata)\n",
    "print(rdata.oMf[rmodel.getFrameId(\"imu_arm\")].rotation)\n",
    "viz.display_frames = True\n",
    "viz.display(q)\n",
    "time.sleep(0.1)"
   ]
  },
  {
   "cell_type": "code",
   "execution_count": 104,
   "id": "a90dc38b-63e9-4ace-a87b-cf401d5b535a",
   "metadata": {},
   "outputs": [],
   "source": [
    "# q = np.array([-np.pi/4.0,-np.pi/4.0,0.0,0.0, -np.pi/2.0])\n",
    "q = np.zeros(rmodel.nq)\n",
    "v = np.zeros(rmodel.nq)\n",
    "tau = np.zeros(rmodel.nq)\n",
    "dt = 0.001\n",
    "for i in range(1000):\n",
    "    time.sleep(0.001)\n",
    "    tau[0] = 0.1\n",
    "    tau[1] = 0.8\n",
    "    a = pin.aba(rmodel, rdata, q, v, tau)\n",
    "    v += a*dt\n",
    "    q += v*dt\n",
    "    viz.display(q)"
   ]
  },
  {
   "cell_type": "code",
   "execution_count": null,
   "id": "f8475f16-9d70-4c43-b26d-edfaa6ce5579",
   "metadata": {},
   "outputs": [],
   "source": []
  }
 ],
 "metadata": {
  "kernelspec": {
   "display_name": "Python 3 (ipykernel)",
   "language": "python",
   "name": "python3"
  },
  "language_info": {
   "codemirror_mode": {
    "name": "ipython",
    "version": 3
   },
   "file_extension": ".py",
   "mimetype": "text/x-python",
   "name": "python",
   "nbconvert_exporter": "python",
   "pygments_lexer": "ipython3",
   "version": "3.10.14"
  }
 },
 "nbformat": 4,
 "nbformat_minor": 5
}
